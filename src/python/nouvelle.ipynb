{
 "cells": [
  {
   "cell_type": "code",
   "execution_count": 1,
   "metadata": {},
   "outputs": [],
   "source": [
    "%matplotlib inline  \n",
    "import pylab\n",
    "\n",
    "import matplotlib.pyplot as plt\n",
    "\n",
    "pylab.rcParams['figure.figsize'] = (5.0, 4.0)\n",
    "\n",
    "from src.python.preprocess2 import *\n",
    "\n",
    "from pymongo import MongoClient\n",
    "\n",
    "asp = 'F'  # default: Molecular Function\n",
    "\n",
    "client = MongoClient('mongodb://localhost:27017/')\n",
    "\n",
    "db = client['prot2vec']\n",
    "\n",
    "onto = get_ontology(asp)"
   ]
  },
  {
   "cell_type": "code",
   "execution_count": 2,
   "metadata": {},
   "outputs": [
    {
     "name": "stdout",
     "output_type": "stream",
     "text": [
      "100%\n",
      "Finished loading 109591 mappings!\n",
      "100%\n",
      "Finished loading 32219 mappings!\n"
     ]
    }
   ],
   "source": [
    "# t0 = datetime(2014, 1, 1, 0, 0)\n",
    "# t1 = datetime(2014, 9, 1, 0, 0)\n",
    "t0 = datetime(2017, 1, 1, 0, 0)\n",
    "t1 = datetime.utcnow()\n",
    "\n",
    "trn_stream, tst_stream = get_training_and_validation_streams(db, t0, t1, asp, profile=False)\n",
    "# trn_stream, tst_stream = get_random_training_and_validation_streams(db, asp, ratio=0.2)\n",
    "\n",
    "seq2go_trn = trn_stream._seq2go\n",
    "seq2go_tst = tst_stream._seq2go"
   ]
  },
  {
   "cell_type": "code",
   "execution_count": 3,
   "metadata": {},
   "outputs": [
    {
     "data": {
      "text/plain": [
       "(57137, 11660, 0.16948413448260824, 0)"
      ]
     },
     "execution_count": 3,
     "metadata": {},
     "output_type": "execute_result"
    }
   ],
   "source": [
    "len(seq2go_trn), len(seq2go_tst), len(seq2go_tst)/(len(seq2go_trn) + len(seq2go_tst)), len(set(seq2go_trn.keys()) & set(seq2go_tst.keys()))"
   ]
  },
  {
   "cell_type": "code",
   "execution_count": 4,
   "metadata": {
    "scrolled": false
   },
   "outputs": [
    {
     "name": "stdout",
     "output_type": "stream",
     "text": [
      "A0A0E2J8L1 {'GO:0000976', 'GO:0001217'}\n",
      "A0A0H0Y234 {'GO:0000976', 'GO:0001216'}\n",
      "A0A0H3AK48 {'GO:0000976', 'GO:0001216', 'GO:0001217'}\n",
      "A0A0H3C2M1 {'GO:0000976', 'GO:0001216', 'GO:0001217'}\n",
      "A0A0H3Q915 {'GO:0000976', 'GO:0001216', 'GO:0043565', 'GO:0001217'}\n",
      "A0L9E2 {'GO:0043565'}\n",
      "A0QVY5 {'GO:0000976', 'GO:0001217'}\n",
      "A0R5H1 {'GO:0000976', 'GO:0001216'}\n",
      "A1B3Z0 {'GO:0000976', 'GO:0001217'}\n",
      "A3P7B1 {'GO:0000976', 'GO:0001216'}\n",
      "A4QDE6 {'GO:0000976', 'GO:0001216', 'GO:0001217'}\n",
      "A5F384 {'GO:0000976', 'GO:0001216', 'GO:0001217'}\n",
      "A5F6G4 {'GO:0000976', 'GO:0001216', 'GO:0001217'}\n",
      "A7MXJ7 {'GO:0000976', 'GO:0001216', 'GO:0043565', 'GO:0001217'}\n",
      "A8AWB2 {'GO:0000976', 'GO:0001217'}\n",
      "A8CG91 {'GO:0043565'}\n",
      "A9BGA3 {'GO:0043565'}\n",
      "B3G2A3 {'GO:0000976', 'GO:0001216'}\n",
      "B5EV73 {'GO:0000976', 'GO:0001216', 'GO:0043565'}\n",
      "B5Z6G7 {'GO:0001130', 'GO:0043565', 'GO:0000976', 'GO:0001217', 'GO:0001216', 'GO:0042802'}\n",
      "B7J425 {'GO:0000976', 'GO:0001217'}\n"
     ]
    }
   ],
   "source": [
    "for i, (k, v) in enumerate(seq2go_tst.items()):\n",
    "    if i > 20: break\n",
    "    print(k, v)"
   ]
  },
  {
   "cell_type": "code",
   "execution_count": 5,
   "metadata": {},
   "outputs": [
    {
     "name": "stdout",
     "output_type": "stream",
     "text": [
      "100%"
     ]
    }
   ],
   "source": [
    "cls_tst = get_classes(seq2go_tst, onto)\n",
    "cls_trn = get_classes(seq2go_trn, onto)"
   ]
  },
  {
   "cell_type": "code",
   "execution_count": 6,
   "metadata": {},
   "outputs": [
    {
     "data": {
      "text/plain": [
       "(6657, 1493, 1402, 5255, 91)"
      ]
     },
     "execution_count": 6,
     "metadata": {},
     "output_type": "execute_result"
    }
   ],
   "source": [
    "len(cls_trn), len(cls_tst), len(set(cls_trn) & set(cls_tst)), len(set(cls_trn) - set(cls_tst)), len(set(cls_tst) - set(cls_trn))"
   ]
  },
  {
   "cell_type": "code",
   "execution_count": 7,
   "metadata": {},
   "outputs": [
    {
     "data": {
      "image/png": "[encoded data removed]",
      "text/plain": [
       "<matplotlib.figure.Figure at 0x7fe12798f550>"
      ]
     },
     "metadata": {},
     "output_type": "display_data"
    },
    {
     "data": {
      "image/png": "[encoded data removed]",
      "text/plain": [
       "<matplotlib.figure.Figure at 0x7fe113029438>"
      ]
     },
     "metadata": {},
     "output_type": "display_data"
    },
    {
     "data": {
      "text/plain": [
       "(5.0, 2.0)"
      ]
     },
     "execution_count": 7,
     "metadata": {},
     "output_type": "execute_result"
    }
   ],
   "source": [
    "lengths_trn = list(map(lambda annos: len(annos), seq2go_trn.values()))\n",
    "lengths_tst = list(map(lambda annos: len(annos), seq2go_tst.values()))\n",
    "\n",
    "plt.tight_layout()\n",
    "\n",
    "plt.subplot(2, 1, 1)\n",
    "plt.hist(lengths_trn, bins=100, range=(1, 100))\n",
    "plt.title(\"Annotations per sequence\")\n",
    "plt.ylabel(\"Frequency\")\n",
    "plt.grid(True)\n",
    "plt.show()\n",
    "\n",
    "plt.subplot(2, 1, 2)\n",
    "plt.hist(lengths_tst, bins=100, range=(1, 100))\n",
    "plt.title(\"Annotations per sequence\")\n",
    "plt.ylabel(\"Frequency\")\n",
    "plt.grid(True)\n",
    "plt.show()\n",
    "\n",
    "np.percentile(lengths_trn, 95, axis=0), np.percentile(lengths_tst, 95, axis=0)\n",
    "# np.percentile(lengths_trn, 90, axis=0), np.percentile(lengths_tst, 90, axis=0)\n",
    "# np.percentile(lengths_trn, 80, axis=0), np.percentile(lengths_tst, 80, axis=0)"
   ]
  },
  {
   "cell_type": "code",
   "execution_count": 8,
   "metadata": {},
   "outputs": [
    {
     "data": {
      "text/plain": [
       "['GO:0003674',\n",
       " 'GO:0005215',\n",
       " 'GO:0022857',\n",
       " 'GO:0015075',\n",
       " 'GO:0008324',\n",
       " 'GO:0015318',\n",
       " 'GO:0022890',\n",
       " 'GO:0046873',\n",
       " 'GO:0003824',\n",
       " 'GO:0016787',\n",
       " 'GO:0022804',\n",
       " 'GO:0016817',\n",
       " 'GO:0016818',\n",
       " 'GO:0016462',\n",
       " 'GO:0017111',\n",
       " 'GO:0016887',\n",
       " 'GO:0042623',\n",
       " 'GO:0015077',\n",
       " 'GO:0022853',\n",
       " 'GO:0015399',\n",
       " 'GO:0015405',\n",
       " 'GO:0043492',\n",
       " 'GO:0042626',\n",
       " 'GO:0042625',\n",
       " 'GO:0015662',\n",
       " 'GO:0019829',\n",
       " 'GO:0015079',\n",
       " 'GO:0015081',\n",
       " 'GO:0008556',\n",
       " 'GO:0005391']"
      ]
     },
     "execution_count": 8,
     "metadata": {},
     "output_type": "execute_result"
    }
   ],
   "source": [
    "onto.propagate([\"GO:0005391\"])"
   ]
  },
  {
   "cell_type": "code",
   "execution_count": null,
   "metadata": {},
   "outputs": [],
   "source": []
  }
 ],
 "metadata": {
  "kernelspec": {
   "display_name": "virtualenv",
   "language": "python",
   "name": "virtualenv"
  },
  "language_info": {
   "codemirror_mode": {
    "name": "ipython",
    "version": 3
   },
   "file_extension": ".py",
   "mimetype": "text/x-python",
   "name": "python",
   "nbconvert_exporter": "python",
   "pygments_lexer": "ipython3",
   "version": "3.6.3"
  }
 },
 "nbformat": 4,
 "nbformat_minor": 1
}
