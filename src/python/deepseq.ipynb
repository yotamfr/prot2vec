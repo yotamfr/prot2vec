{
 "cells": [
  {
   "cell_type": "code",
   "execution_count": 2,
   "metadata": {},
   "outputs": [
    {
     "name": "stderr",
     "output_type": "stream",
     "text": [
      "/home/yotamfr/development/prot2vec/virtualenv/lib/python3.6/site-packages/Bio/SearchIO/__init__.py:211: BiopythonExperimentalWarning: Bio.SearchIO is an experimental submodule which may undergo significant changes prior to its future official release.\n",
      "  BiopythonExperimentalWarning)\n",
      "/home/yotamfr/development/prot2vec/virtualenv/lib/python3.6/importlib/_bootstrap.py:219: RuntimeWarning: compiletime version 3.5 of module 'tensorflow.python.framework.fast_tensor_util' does not match runtime version 3.6\n",
      "  return f(*args, **kwds)\n",
      "Using TensorFlow backend.\n"
     ]
    }
   ],
   "source": [
    "from src.python.deepseq0 import *"
   ]
  },
  {
   "cell_type": "code",
   "execution_count": 3,
   "metadata": {},
   "outputs": [
    {
     "name": "stdout",
     "output_type": "stream",
     "text": [
      "Loading Ontology...\n",
      "WARNING:tensorflow:From /home/yotamfr/development/prot2vec/virtualenv/lib/python3.6/site-packages/keras/backend/tensorflow_backend.py:1208: calling reduce_max (from tensorflow.python.ops.math_ops) with keep_dims is deprecated and will be removed in a future version.\n",
      "Instructions for updating:\n",
      "keep_dims is deprecated, use keepdims instead\n",
      "WARNING:tensorflow:From /home/yotamfr/development/prot2vec/virtualenv/lib/python3.6/site-packages/tensorflow/python/ops/nn_impl.py:666: calling reduce_mean (from tensorflow.python.ops.math_ops) with keep_dims is deprecated and will be removed in a future version.\n",
      "Instructions for updating:\n",
      "keep_dims is deprecated, use keepdims instead\n"
     ]
    }
   ],
   "source": [
    "from keras.models import model_from_json\n",
    "\n",
    "from src.python import baselines\n",
    "baselines.init_GO(asp=ASPECT)\n",
    "\n",
    "ASPECT = 'F'  # Molecular Function\n",
    "\n",
    "client = MongoClient(\"mongodb://localhost:27017/\")\n",
    "\n",
    "db = client['prot2vec']\n",
    "\n",
    "print(\"Loading Ontology...\")\n",
    "onto = get_ontology(ASPECT)\n",
    "\n",
    "model_str_deeperseq = \"deeperseq-19-0.00224-0.57\"\n",
    "model_str_inception = \"inception-14-0.00269-0.51\"\n",
    "\n",
    "# classes = [c for c in np.load('../../checkpoints/%s.npy' % model_str)]\n",
    "classes = onto.classes\n",
    "classes.remove(onto.root)\n",
    "assert onto.root not in classes\n",
    "\n",
    "with open('../../checkpoints/%s.json' % model_str_deeperseq, 'r') as f:\n",
    "    deeperseq = model_from_json(f.read())\n",
    "    \n",
    "with open('../../checkpoints/%s.json' % model_str_inception, 'r') as f:\n",
    "    inception = model_from_json(f.read())\n"
   ]
  },
  {
   "cell_type": "code",
   "execution_count": 3,
   "metadata": {},
   "outputs": [
    {
     "name": "stdout",
     "output_type": "stream",
     "text": [
      "Loaded model from disk\n",
      "Loaded model from disk\n"
     ]
    }
   ],
   "source": [
    "inception.load_weights(\"../../checkpoints/%s.hdf5\" % model_str_inception)\n",
    "print(\"Loaded model from disk\")\n",
    "\n",
    "deeperseq.load_weights(\"../../checkpoints/%s.hdf5\" % model_str_deeperseq)\n",
    "print(\"Loaded model from disk\")"
   ]
  },
  {
   "cell_type": "code",
   "execution_count": 4,
   "metadata": {},
   "outputs": [
    {
     "name": "stdout",
     "output_type": "stream",
     "text": [
      "100%\n",
      "Finished loading 81702 mappings!\n",
      "100%\n",
      "Finished loading 9049 mappings!\n"
     ]
    }
   ],
   "source": [
    "lim = None\n",
    "trn_stream, tst_stream = get_training_and_validation_streams(db, onto, classes, limit=lim)"
   ]
  },
  {
   "cell_type": "code",
   "execution_count": 5,
   "metadata": {},
   "outputs": [
    {
     "name": "stderr",
     "output_type": "stream",
     "text": [
      "Predicting...:  97%|█████████▋| 6355/6525 [12:05<00:18,  9.11it/s]\n"
     ]
    }
   ],
   "source": [
    "y_true, y_deeperseq = predict(deeperseq, batch_generator(tst_stream), len(tst_stream), classes)"
   ]
  },
  {
   "cell_type": "code",
   "execution_count": 6,
   "metadata": {
    "scrolled": false
   },
   "outputs": [
    {
     "data": {
      "image/png": "[encoded data removed]",
      "text/plain": [
       "<matplotlib.figure.Figure at 0x7f9578147c18>"
      ]
     },
     "metadata": {},
     "output_type": "display_data"
    }
   ],
   "source": [
    "perf_deeperseq = baselines.performance(y_deeperseq, y_true, classes)\n",
    "baselines.plot_precision_recall({\"deeperseq\": perf_deeperseq})"
   ]
  },
  {
   "cell_type": "code",
   "execution_count": 1,
   "metadata": {},
   "outputs": [
    {
     "ename": "NameError",
     "evalue": "name 'perf_deeperseq' is not defined",
     "output_type": "error",
     "traceback": [
      "\u001b[0;31m---------------------------------------------------------------------------\u001b[0m",
      "\u001b[0;31mNameError\u001b[0m                                 Traceback (most recent call last)",
      "\u001b[0;32m<ipython-input-1-d5c637e78141>\u001b[0m in \u001b[0;36m<module>\u001b[0;34m()\u001b[0m\n\u001b[1;32m      1\u001b[0m \u001b[0;32mimport\u001b[0m \u001b[0mpandas\u001b[0m \u001b[0;32mas\u001b[0m \u001b[0mpd\u001b[0m\u001b[0;34m\u001b[0m\u001b[0m\n\u001b[0;32m----> 2\u001b[0;31m \u001b[0mprs\u001b[0m\u001b[0;34m,\u001b[0m \u001b[0mrcs\u001b[0m\u001b[0;34m,\u001b[0m \u001b[0mf1s\u001b[0m \u001b[0;34m=\u001b[0m \u001b[0mperf_deeperseq\u001b[0m\u001b[0;34m\u001b[0m\u001b[0m\n\u001b[0m\u001b[1;32m      3\u001b[0m \u001b[0mpd\u001b[0m\u001b[0;34m.\u001b[0m\u001b[0mDataFrame\u001b[0m\u001b[0;34m(\u001b[0m\u001b[0;34m{\u001b[0m\u001b[0;34m\"precision\"\u001b[0m\u001b[0;34m:\u001b[0m \u001b[0mprs\u001b[0m\u001b[0;34m,\u001b[0m \u001b[0;34m\"recall\"\u001b[0m\u001b[0;34m:\u001b[0m \u001b[0mrcs\u001b[0m\u001b[0;34m,\u001b[0m \u001b[0;34m\"F_max\"\u001b[0m\u001b[0;34m:\u001b[0m \u001b[0mf1s\u001b[0m\u001b[0;34m}\u001b[0m\u001b[0;34m)\u001b[0m\u001b[0;34m.\u001b[0m\u001b[0mhead\u001b[0m\u001b[0;34m(\u001b[0m\u001b[0;36m20\u001b[0m\u001b[0;34m)\u001b[0m\u001b[0;34m\u001b[0m\u001b[0m\n",
      "\u001b[0;31mNameError\u001b[0m: name 'perf_deeperseq' is not defined"
     ]
    }
   ],
   "source": [
    "import pandas as pd\n",
    "prs, rcs, f1s = perf_deeperseq\n",
    "pd.DataFrame({\"precision\": prs, \"recall\": rcs, \"F_max\": f1s}).head(20)"
   ]
  },
  {
   "cell_type": "code",
   "execution_count": 8,
   "metadata": {},
   "outputs": [
    {
     "name": "stdout",
     "output_type": "stream",
     "text": [
      "100%\n",
      "Finished loading 81702 mappings!\n",
      "100%\n",
      "Finished loading 9049 mappings!\n"
     ]
    }
   ],
   "source": [
    "lim = None\n",
    "trn_stream, tst_stream = get_training_and_validation_streams(db, onto, classes, limit=lim)"
   ]
  },
  {
   "cell_type": "code",
   "execution_count": 9,
   "metadata": {},
   "outputs": [
    {
     "name": "stderr",
     "output_type": "stream",
     "text": [
      "Predicting...:  97%|█████████▋| 6355/6525 [02:38<00:04, 41.78it/s]\n"
     ]
    }
   ],
   "source": [
    "y_true, y_inception = predict(inception, batch_generator(tst_stream), len(tst_stream), classes)"
   ]
  },
  {
   "cell_type": "code",
   "execution_count": 10,
   "metadata": {
    "scrolled": false
   },
   "outputs": [
    {
     "data": {
      "image/png": "[encoded data removed]",
      "text/plain": [
       "<matplotlib.figure.Figure at 0x7f956c64f358>"
      ]
     },
     "metadata": {},
     "output_type": "display_data"
    }
   ],
   "source": [
    "perf_inception = baselines.performance(y_inception, y_true, classes)\n",
    "baselines.plot_precision_recall({\"inception\": perf_inception})"
   ]
  },
  {
   "cell_type": "code",
   "execution_count": 11,
   "metadata": {},
   "outputs": [
    {
     "data": {
      "text/html": [
       "<div>\n",
       "<style scoped>\n",
       "    .dataframe tbody tr th:only-of-type {\n",
       "        vertical-align: middle;\n",
       "    }\n",
       "\n",
       "    .dataframe tbody tr th {\n",
       "        vertical-align: top;\n",
       "    }\n",
       "\n",
       "    .dataframe thead th {\n",
       "        text-align: right;\n",
       "    }\n",
       "</style>\n",
       "<table border=\"1\" class=\"dataframe\">\n",
       "  <thead>\n",
       "    <tr style=\"text-align: right;\">\n",
       "      <th></th>\n",
       "      <th>F_max</th>\n",
       "      <th>precision</th>\n",
       "      <th>recall</th>\n",
       "    </tr>\n",
       "  </thead>\n",
       "  <tbody>\n",
       "    <tr>\n",
       "      <th>0</th>\n",
       "      <td>0.189652</td>\n",
       "      <td>0.110897</td>\n",
       "      <td>0.654331</td>\n",
       "    </tr>\n",
       "    <tr>\n",
       "      <th>1</th>\n",
       "      <td>0.281893</td>\n",
       "      <td>0.185830</td>\n",
       "      <td>0.583557</td>\n",
       "    </tr>\n",
       "    <tr>\n",
       "      <th>2</th>\n",
       "      <td>0.345911</td>\n",
       "      <td>0.253336</td>\n",
       "      <td>0.545107</td>\n",
       "    </tr>\n",
       "    <tr>\n",
       "      <th>3</th>\n",
       "      <td>0.368412</td>\n",
       "      <td>0.289332</td>\n",
       "      <td>0.506982</td>\n",
       "    </tr>\n",
       "    <tr>\n",
       "      <th>4</th>\n",
       "      <td>0.393576</td>\n",
       "      <td>0.328197</td>\n",
       "      <td>0.491483</td>\n",
       "    </tr>\n",
       "    <tr>\n",
       "      <th>5</th>\n",
       "      <td>0.403175</td>\n",
       "      <td>0.354504</td>\n",
       "      <td>0.467339</td>\n",
       "    </tr>\n",
       "    <tr>\n",
       "      <th>6</th>\n",
       "      <td>0.410842</td>\n",
       "      <td>0.381756</td>\n",
       "      <td>0.444724</td>\n",
       "    </tr>\n",
       "    <tr>\n",
       "      <th>7</th>\n",
       "      <td>0.414303</td>\n",
       "      <td>0.400833</td>\n",
       "      <td>0.428710</td>\n",
       "    </tr>\n",
       "    <tr>\n",
       "      <th>8</th>\n",
       "      <td>0.411240</td>\n",
       "      <td>0.417713</td>\n",
       "      <td>0.404964</td>\n",
       "    </tr>\n",
       "    <tr>\n",
       "      <th>9</th>\n",
       "      <td>0.412047</td>\n",
       "      <td>0.429774</td>\n",
       "      <td>0.395725</td>\n",
       "    </tr>\n",
       "  </tbody>\n",
       "</table>\n",
       "</div>"
      ],
      "text/plain": [
       "      F_max  precision    recall\n",
       "0  0.189652   0.110897  0.654331\n",
       "1  0.281893   0.185830  0.583557\n",
       "2  0.345911   0.253336  0.545107\n",
       "3  0.368412   0.289332  0.506982\n",
       "4  0.393576   0.328197  0.491483\n",
       "5  0.403175   0.354504  0.467339\n",
       "6  0.410842   0.381756  0.444724\n",
       "7  0.414303   0.400833  0.428710\n",
       "8  0.411240   0.417713  0.404964\n",
       "9  0.412047   0.429774  0.395725"
      ]
     },
     "execution_count": 11,
     "metadata": {},
     "output_type": "execute_result"
    }
   ],
   "source": [
    "import pandas as pd\n",
    "prs, rcs, f1s = perf_inception\n",
    "pd.DataFrame({\"precision\": prs, \"recall\": rcs, \"F_max\": f1s}).head(10)"
   ]
  },
  {
   "cell_type": "code",
   "execution_count": 9,
   "metadata": {},
   "outputs": [
    {
     "name": "stdout",
     "output_type": "stream",
     "text": [
      "100%\n",
      "Finished loading 81702 mappings!\n",
      "100%\n",
      "Finished loading 9049 mappings!\n",
      "100%\n",
      "Finished loading 81702 mappings!\n",
      "100%\n",
      "Finished loading 9049 mappings!\n"
     ]
    }
   ],
   "source": [
    "def unpad_seq(padded_seq):\n",
    "    return ''.join([AA.index2aa[ix] for ix in padded_seq if ix != PAD])\n",
    "\n",
    "_, tst_stream = get_training_and_validation_streams(db, onto, classes, limit=lim)\n",
    "seqs_valid = {k: unpad_seq(seq) for k, seq, _ in tst_stream}\n",
    "annots_valid = tst_stream._seq2go\n",
    "\n",
    "trn_stream, _ = get_training_and_validation_streams(db, onto, classes, limit=None)\n",
    "seqs_train = {k: unpad_seq(seq) for k, seq, _ in trn_stream}\n",
    "annots_train = trn_stream._seq2go"
   ]
  },
  {
   "cell_type": "code",
   "execution_count": 13,
   "metadata": {},
   "outputs": [
    {
     "name": "stderr",
     "output_type": "stream",
     "text": [
      "targets processed: 100%|██████████| 6355/6355 [00:00<00:00, 106039.81it/s]\n"
     ]
    },
    {
     "data": {
      "image/png": "[encoded data removed]",
      "text/plain": [
       "<matplotlib.figure.Figure at 0x7f956d13c438>"
      ]
     },
     "metadata": {},
     "output_type": "display_data"
    }
   ],
   "source": [
    "y_naive = baselines.predict(seqs_train, annots_train, seqs_valid, \"naive\", load_file=0)\n",
    "perf_naive = baselines.performance(y_naive, annots_valid)\n",
    "baselines.plot_precision_recall({\"naive\": perf_naive})"
   ]
  },
  {
   "cell_type": "code",
   "execution_count": 18,
   "metadata": {},
   "outputs": [
    {
     "data": {
      "text/html": [
       "<div>\n",
       "<style scoped>\n",
       "    .dataframe tbody tr th:only-of-type {\n",
       "        vertical-align: middle;\n",
       "    }\n",
       "\n",
       "    .dataframe tbody tr th {\n",
       "        vertical-align: top;\n",
       "    }\n",
       "\n",
       "    .dataframe thead th {\n",
       "        text-align: right;\n",
       "    }\n",
       "</style>\n",
       "<table border=\"1\" class=\"dataframe\">\n",
       "  <thead>\n",
       "    <tr style=\"text-align: right;\">\n",
       "      <th></th>\n",
       "      <th>F_max</th>\n",
       "      <th>precision</th>\n",
       "      <th>recall</th>\n",
       "    </tr>\n",
       "  </thead>\n",
       "  <tbody>\n",
       "    <tr>\n",
       "      <th>0</th>\n",
       "      <td>0.225797</td>\n",
       "      <td>0.253973</td>\n",
       "      <td>0.203248</td>\n",
       "    </tr>\n",
       "    <tr>\n",
       "      <th>1</th>\n",
       "      <td>0.225797</td>\n",
       "      <td>0.253973</td>\n",
       "      <td>0.203248</td>\n",
       "    </tr>\n",
       "    <tr>\n",
       "      <th>2</th>\n",
       "      <td>0.225797</td>\n",
       "      <td>0.253973</td>\n",
       "      <td>0.203248</td>\n",
       "    </tr>\n",
       "    <tr>\n",
       "      <th>3</th>\n",
       "      <td>0.225797</td>\n",
       "      <td>0.253973</td>\n",
       "      <td>0.203248</td>\n",
       "    </tr>\n",
       "    <tr>\n",
       "      <th>4</th>\n",
       "      <td>0.225797</td>\n",
       "      <td>0.253973</td>\n",
       "      <td>0.203248</td>\n",
       "    </tr>\n",
       "    <tr>\n",
       "      <th>5</th>\n",
       "      <td>0.225797</td>\n",
       "      <td>0.253973</td>\n",
       "      <td>0.203248</td>\n",
       "    </tr>\n",
       "    <tr>\n",
       "      <th>6</th>\n",
       "      <td>NaN</td>\n",
       "      <td>0.000000</td>\n",
       "      <td>0.000000</td>\n",
       "    </tr>\n",
       "    <tr>\n",
       "      <th>7</th>\n",
       "      <td>NaN</td>\n",
       "      <td>0.000000</td>\n",
       "      <td>0.000000</td>\n",
       "    </tr>\n",
       "    <tr>\n",
       "      <th>8</th>\n",
       "      <td>NaN</td>\n",
       "      <td>0.000000</td>\n",
       "      <td>0.000000</td>\n",
       "    </tr>\n",
       "    <tr>\n",
       "      <th>9</th>\n",
       "      <td>NaN</td>\n",
       "      <td>0.000000</td>\n",
       "      <td>0.000000</td>\n",
       "    </tr>\n",
       "    <tr>\n",
       "      <th>10</th>\n",
       "      <td>NaN</td>\n",
       "      <td>0.000000</td>\n",
       "      <td>0.000000</td>\n",
       "    </tr>\n",
       "    <tr>\n",
       "      <th>11</th>\n",
       "      <td>NaN</td>\n",
       "      <td>0.000000</td>\n",
       "      <td>0.000000</td>\n",
       "    </tr>\n",
       "    <tr>\n",
       "      <th>12</th>\n",
       "      <td>NaN</td>\n",
       "      <td>0.000000</td>\n",
       "      <td>0.000000</td>\n",
       "    </tr>\n",
       "    <tr>\n",
       "      <th>13</th>\n",
       "      <td>NaN</td>\n",
       "      <td>0.000000</td>\n",
       "      <td>0.000000</td>\n",
       "    </tr>\n",
       "    <tr>\n",
       "      <th>14</th>\n",
       "      <td>NaN</td>\n",
       "      <td>0.000000</td>\n",
       "      <td>0.000000</td>\n",
       "    </tr>\n",
       "    <tr>\n",
       "      <th>15</th>\n",
       "      <td>NaN</td>\n",
       "      <td>0.000000</td>\n",
       "      <td>0.000000</td>\n",
       "    </tr>\n",
       "    <tr>\n",
       "      <th>16</th>\n",
       "      <td>NaN</td>\n",
       "      <td>0.000000</td>\n",
       "      <td>0.000000</td>\n",
       "    </tr>\n",
       "    <tr>\n",
       "      <th>17</th>\n",
       "      <td>NaN</td>\n",
       "      <td>0.000000</td>\n",
       "      <td>0.000000</td>\n",
       "    </tr>\n",
       "    <tr>\n",
       "      <th>18</th>\n",
       "      <td>NaN</td>\n",
       "      <td>0.000000</td>\n",
       "      <td>0.000000</td>\n",
       "    </tr>\n",
       "  </tbody>\n",
       "</table>\n",
       "</div>"
      ],
      "text/plain": [
       "       F_max  precision    recall\n",
       "0   0.225797   0.253973  0.203248\n",
       "1   0.225797   0.253973  0.203248\n",
       "2   0.225797   0.253973  0.203248\n",
       "3   0.225797   0.253973  0.203248\n",
       "4   0.225797   0.253973  0.203248\n",
       "5   0.225797   0.253973  0.203248\n",
       "6        NaN   0.000000  0.000000\n",
       "7        NaN   0.000000  0.000000\n",
       "8        NaN   0.000000  0.000000\n",
       "9        NaN   0.000000  0.000000\n",
       "10       NaN   0.000000  0.000000\n",
       "11       NaN   0.000000  0.000000\n",
       "12       NaN   0.000000  0.000000\n",
       "13       NaN   0.000000  0.000000\n",
       "14       NaN   0.000000  0.000000\n",
       "15       NaN   0.000000  0.000000\n",
       "16       NaN   0.000000  0.000000\n",
       "17       NaN   0.000000  0.000000\n",
       "18       NaN   0.000000  0.000000"
      ]
     },
     "execution_count": 18,
     "metadata": {},
     "output_type": "execute_result"
    }
   ],
   "source": [
    "import pandas as pd\n",
    "prs, rcs, f1s = perf_naive\n",
    "pd.DataFrame({\"precision\": prs, \"recall\": rcs, \"F_max\": f1s}).head(20)"
   ]
  },
  {
   "cell_type": "code",
   "execution_count": 11,
   "metadata": {
    "scrolled": false
   },
   "outputs": [
    {
     "data": {
      "image/png": "[encoded data removed]",
      "text/plain": [
       "<matplotlib.figure.Figure at 0x7fb83e5ec668>"
      ]
     },
     "metadata": {},
     "output_type": "display_data"
    }
   ],
   "source": [
    "y_blast = baselines.predict(seqs_train, annots_train, seqs_valid, \"blast\", load_file=1)\n",
    "perf_blast = baselines.performance(y_blast, annots_valid)\n",
    "baselines.plot_precision_recall({\"blast\": perf_blast})"
   ]
  },
  {
   "cell_type": "code",
   "execution_count": 16,
   "metadata": {},
   "outputs": [
    {
     "data": {
      "image/png": "[encoded data removed]",
      "text/plain": [
       "<matplotlib.figure.Figure at 0x7f953bf675c0>"
      ]
     },
     "metadata": {},
     "output_type": "display_data"
    }
   ],
   "source": [
    "%matplotlib inline  \n",
    "import pylab\n",
    "pylab.rcParams['figure.figsize'] = (10.0, 8.0)\n",
    "\n",
    "perf = {\"naive\": perf_naive, \"blast\": perf_blast, \"deeperseq\": perf_deeperseq, \"inception\": perf_inception}\n",
    "baselines.plot_precision_recall(perf)"
   ]
  },
  {
   "cell_type": "code",
   "execution_count": null,
   "metadata": {},
   "outputs": [],
   "source": [
    "s1 = reduce(lambda x, y: set(x) | set(y), trn_stream._seq2go.values(), set())\n",
    "s2 = reduce(lambda x, y: set(x) | set(y), tst_stream._seq2go.values(), set())\n",
    "\n",
    "len(s1), len(s2), len(s1 | s2), len(s1 & s2), len(s1 - s2), len(s2 - s1)"
   ]
  },
  {
   "cell_type": "code",
   "execution_count": null,
   "metadata": {},
   "outputs": [],
   "source": []
  }
 ],
 "metadata": {
  "kernelspec": {
   "display_name": "virtualenv",
   "language": "python",
   "name": "virtualenv"
  },
  "language_info": {
   "codemirror_mode": {
    "name": "ipython",
    "version": 3
   },
   "file_extension": ".py",
   "mimetype": "text/x-python",
   "name": "python",
   "nbconvert_exporter": "python",
   "pygments_lexer": "ipython3",
   "version": "3.6.3"
  }
 },
 "nbformat": 4,
 "nbformat_minor": 1
}
